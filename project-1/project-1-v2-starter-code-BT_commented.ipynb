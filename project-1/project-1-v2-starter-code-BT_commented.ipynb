{
 "cells": [
  {
   "cell_type": "markdown",
   "metadata": {},
   "source": [
    "<img src=\"http://imgur.com/1ZcRyrc.png\" style=\"float: left; margin: 15px; height: 80px\">\n",
    "\n",
    "# Project 1\n",
    "\n",
    "### Building \"Pokemon Stay\"\n",
    "\n",
    "---\n",
    "You are an analyst at a \"scrappy\" online gaming company that specializes in remakes of last year's fads.\n",
    "\n",
    "Your boss, who runs the product development team, is convinced that Pokemon Go's fatal flaw was that you had to actually move around outside. She has design mock-ups for a new game called Pokemon Stay: in this version players still need to move, but just from website to website. Pokemon gyms are now popular online destinations, and catching Pokemon in the \"wild\" simply requires browsing the internet for hours in the comfort of your home.\n",
    "\n",
    "She wants you to program a prototype version of the game, and analyze the planned content to help the team calibrate the design."
   ]
  },
  {
   "cell_type": "markdown",
   "metadata": {},
   "source": [
    "---\n",
    "<p><font  color=\"9966FF\">***COMMENTS:***.<br>\n",
    "<p>*Command of basic Python data structures:* Student used correct data structers</p>\n",
    "<p>*Command of basic Python syntax and control flow:* Student demonstrated a good understanding of Python syntax and control flow.</p>\n",
    "<p>*Comfort with calculating basic descriptive statistics:*  Student demonstrated a good understanding of basic descriptive statistics </p>\n",
    "\n",
    "<b><p> Very good. The code is clean and well commented. Some data was lost when you generate dictionary of pokemon (80  pokemons were removed, 10% of our dataset). </p></b></font></p>\n",
    "\n",
    "--- \n",
    "\n"
   ]
  },
  {
   "cell_type": "markdown",
   "metadata": {},
   "source": [
    "#### Package imports\n",
    "\n",
    "The pprint package below is the only package imported here, and it's not even strictly required to do any of the project. Printing python variables and objects with pprint can help to format them in a \"prettier\" way."
   ]
  },
  {
   "cell_type": "code",
   "execution_count": 1,
   "metadata": {
    "collapsed": true
   },
   "outputs": [],
   "source": [
    "from pprint import pprint"
   ]
  },
  {
   "cell_type": "markdown",
   "metadata": {},
   "source": [
    "<img src=\"http://imgur.com/l5NasQj.png\" style=\"float: left; margin: 25px 15px 0px 0px; height: 25px\">\n",
    "\n",
    "## 1. Defining a player\n",
    "\n",
    "---\n",
    "\n",
    "The player variables are:\n",
    "\n",
    "    player_id : id code unique to each player (integer)\n",
    "    player_name : entered name of the player (string)\n",
    "    time_played : number of time played the game in minutes (float)\n",
    "    player_pokemon: the player's captured pokemon (dictionary)\n",
    "    gyms_visited: ids of the gyms that a player has visited (list)\n",
    "    \n",
    "Create the components for a player object by defining each of these variables. The dictionary and list variables should just be defined as empty; you can use any (correctly typed) values for the others."
   ]
  },
  {
   "cell_type": "code",
   "execution_count": 2,
   "metadata": {
    "collapsed": true
   },
   "outputs": [],
   "source": [
    "# initialise player variables\n",
    "player_id=0\n",
    "player_name=''\n",
    "time_played=0.0\n",
    "player_pokemon={}\n",
    "gyms_visited=[]"
   ]
  },
  {
   "cell_type": "markdown",
   "metadata": {},
   "source": [
    "---\n",
    "<p><font size=\"3\" color=\"9966FF\">***Correct***.</font></p>\n",
    "\n",
    "--- "
   ]
  },
  {
   "cell_type": "markdown",
   "metadata": {},
   "source": [
    "<img src=\"http://imgur.com/l5NasQj.png\" style=\"float: left; margin: 25px 15px 0px 0px; height: 25px\">\n",
    "\n",
    "## 2. Defining \"gym\" locations\n",
    "\n",
    "---\n",
    "\n",
    "As the sole programmer, Pokemon Stay will have to start small. To begin, there will be 10 different gym location websites on the internet. The gym locations are:\n",
    "\n",
    "    1. 'reddit.com'\n",
    "    2. 'amazon.com'\n",
    "    3. 'twitter.com'\n",
    "    4. 'linkedin.com'\n",
    "    5. 'ebay.com'\n",
    "    6. 'netflix.com'\n",
    "    7. 'sporcle.com'\n",
    "    8. 'stackoverflow.com'\n",
    "    9. 'github.com'\n",
    "    10. 'quora.com'\n",
    "\n",
    "1. Set up a list of all the gym locations. This will be a list of strings.\n",
    "2. Append two of these locations to your player's list of visited gyms.\n",
    "3. Print the list."
   ]
  },
  {
   "cell_type": "code",
   "execution_count": 2,
   "metadata": {
    "collapsed": true
   },
   "outputs": [],
   "source": [
    "pokemon_gyms=['reddit.com','amazon.com','twitter.com','linkedin.com','ebay.com','netflix.com',\n",
    "              'sporcle.com','stackoverflow.com','github.com','quora.com']"
   ]
  },
  {
   "cell_type": "markdown",
   "metadata": {},
   "source": [
    "---\n",
    "<p><font size=\"3\" color=\"9966FF\">***Correct***. But you were also asked to *Append two of these locations to your player's list of visited gyms*<br> \n",
    "`gyms_visited.append(['github.com','quora.com'])`</font></p>\n",
    "\n",
    "--- \n"
   ]
  },
  {
   "cell_type": "markdown",
   "metadata": {},
   "source": [
    "<img src=\"http://imgur.com/l5NasQj.png\" style=\"float: left; margin: 25px 15px 0px 0px; height: 25px\">\n",
    "\n",
    "## 3. Create a pokedex\n",
    "\n",
    "---\n",
    "\n",
    "We also need to create some pokemon to catch. Each pokemon will be defined by these variables:\n",
    "\n",
    "    pokemon_id : unique identifier for each pokemon (integer)\n",
    "    name : the name of the pokemon (string)\n",
    "    type : the category of pokemon (string)\n",
    "    hp : base hitpoints (integer)\n",
    "    attack : base attack (integer)\n",
    "    defense : base defense (integer)\n",
    "    special_attack : base special attack (integer)\n",
    "    special_defense : base sepecial defense (integer)\n",
    "    speed : base speed (integer)\n",
    "\n",
    "We are only going to create 3 different pokemon with these `pokemon_id` and `pokemon_name` values:\n",
    "\n",
    "    1 : 'charmander'\n",
    "    2 : 'squirtle'\n",
    "    3 : 'bulbasaur'\n",
    "\n",
    "Create a dictionary that will contain the pokemon. The keys of the dictionary will be the `pokemon_id` and the values will themselves dictionaries that contain the other pokemon variables. The structure of the pokedex dictionary will start like so:\n",
    "     \n",
    "     {\n",
    "         1: {\n",
    "                 'name':'charmander',\n",
    "                 'type':'fire',\n",
    "                 ...\n",
    "                 \n",
    "The `type` of charmander, squirtle, and bulbasaur should be `'fire'`, `'water'`, and `'poison'` respectively. The other values are up to you, make them anything you like!\n",
    "\n",
    "Print (or pretty print) the pokedex dictionary with the 3 pokemon."
   ]
  },
  {
   "cell_type": "code",
   "execution_count": 3,
   "metadata": {
    "collapsed": true
   },
   "outputs": [],
   "source": [
    "pokedex={\n",
    "    # creating a dictionary of dictionary, called pokedex.\n",
    "    # outer dictionary: key=pokemon_id, value=pokemon's attributes\n",
    "    # inner dictionary(pokemon's attributes): key: attributes, value: respective values\n",
    "    \n",
    "    1:{\n",
    "        'name':'charmander',\n",
    "        'type':'fire',\n",
    "        'hp':500,\n",
    "        'attack':50,\n",
    "        'defence':20,\n",
    "        'special_attack':100,\n",
    "        'special_defence':40,\n",
    "        'speed':30\n",
    "    },\n",
    "    \n",
    "    2:{\n",
    "        'name':'squirtle',\n",
    "        'type':'water',\n",
    "        'hp':500,\n",
    "        'attack':50,\n",
    "        'defence':20,\n",
    "        'special_attack':100,\n",
    "        'special_defence':40,\n",
    "        'speed':30\n",
    "    },\n",
    "    \n",
    "    3:{\n",
    "        'name':'bulbasaur',\n",
    "        'type':'poison',\n",
    "        'hp':500,\n",
    "        'attack':50,\n",
    "        'defence':20,\n",
    "        'special_attack':100,\n",
    "        'special_defence':40,\n",
    "        'speed':30\n",
    "    }   \n",
    "}"
   ]
  },
  {
   "cell_type": "markdown",
   "metadata": {},
   "source": [
    "---\n",
    "<p><font size=\"3\" color=\"9966FF\">***Correct***. </font></p>\n",
    "\n",
    "--- \n"
   ]
  },
  {
   "cell_type": "markdown",
   "metadata": {},
   "source": [
    "<img src=\"http://imgur.com/l5NasQj.png\" style=\"float: left; margin: 25px 15px 0px 0px; height: 25px\">\n",
    "\n",
    "## 4. Create a data structure for players\n",
    "\n",
    "---\n",
    "\n",
    "### 4.1 \n",
    "\n",
    "In order to maintain a database of multiple players, create a dictionary that keeps track of players indexed by `player_id`. \n",
    "\n",
    "The keys of the dictionary will be `player_id` and values will be dictionaries containing each player's variables (from question 1). \n",
    "\n",
    "Construct the `players` dictionary and insert the player that you defined in question 1, then print `players`."
   ]
  },
  {
   "cell_type": "code",
   "execution_count": 4,
   "metadata": {},
   "outputs": [
    {
     "name": "stdout",
     "output_type": "stream",
     "text": [
      "{1: {'time_played': 2.0, 'gyms_visited': [], 'player_name': 'Player 1', 'player_pokemon': {}}}\n"
     ]
    }
   ],
   "source": [
    "# key(type(value)): player_id(int), player_name(str), time_played(float),player_pokemon(dict), gyms_visited(list)\n",
    "\n",
    "players={}\n",
    "\n",
    "players.update({\n",
    "\n",
    "    # set player one's data\n",
    "    1:\n",
    "    {\n",
    "        'player_name':'Player 1',\n",
    "        'time_played':2.0,\n",
    "        'player_pokemon':{},\n",
    "        'gyms_visited':[] \n",
    "        #'gyms_visited':['reddit.com'] #for testing only: reddit added\n",
    "    }\n",
    "\n",
    "})\n",
    "\n",
    "print(players)"
   ]
  },
  {
   "cell_type": "markdown",
   "metadata": {},
   "source": [
    "---\n",
    "<p><font size=\"3\" color=\"9966FF\">***Correct***.</font></p>\n",
    "\n",
    "--- \n"
   ]
  },
  {
   "cell_type": "markdown",
   "metadata": {},
   "source": [
    "---\n",
    "\n",
    "### 4.2\n",
    "\n",
    "Create a new player with `player_id = 2` in the `players` dictionary. Leave the `'player_pokemon'` dictionary empty. Append `'alcatraz'` and `'pacific_beach'` to the `'gyms_visited'` list for player 2.\n",
    "\n",
    "The `'player_name'` and `'time_played'` values are up to you, but must be a string and float, respectively.\n",
    "\n",
    "Remember, the player_id is the key for the player in the players dictionary.\n",
    "\n",
    "Print the `players` dictionary with the new player inserted."
   ]
  },
  {
   "cell_type": "code",
   "execution_count": 5,
   "metadata": {},
   "outputs": [
    {
     "name": "stdout",
     "output_type": "stream",
     "text": [
      "{1: {'time_played': 2.0, 'gyms_visited': [], 'player_name': 'Player 1', 'player_pokemon': {}}, 2: {'time_played': 1.5, 'gyms_visited': ['alcartraz', 'pacific_beach', 'gyms_visited'], 'player_name': 'Player 2', 'player_pokemon': {}}}\n"
     ]
    }
   ],
   "source": [
    "players.update({\n",
    "\n",
    "    #player 2\n",
    "    2:\n",
    "    {\n",
    "        #set player 2's data\n",
    "        'player_name':'Player 2',\n",
    "        'time_played':1.5,\n",
    "        'player_pokemon':{},\n",
    "        'gyms_visited':['alcartraz','pacific_beach','gyms_visited'] #actual question\n",
    "        #'gyms_visited':['alcartraz','pacific_beach','gyms_visited','github.com'] #for testing only- github added\n",
    "        \n",
    "    }\n",
    "\n",
    "})\n",
    "\n",
    "print(players)"
   ]
  },
  {
   "cell_type": "markdown",
   "metadata": {},
   "source": [
    "---\n",
    "<p><font size=\"3\" color=\"9966FF\">***Correct***. </font></p>\n",
    "\n",
    "--- \n"
   ]
  },
  {
   "cell_type": "markdown",
   "metadata": {},
   "source": [
    "<img src=\"http://imgur.com/l5NasQj.png\" style=\"float: left; margin: 25px 15px 0px 0px; height: 25px\">\n",
    "\n",
    "## 5. Add captured pokemon for each player\n",
    "\n",
    "---\n",
    "\n",
    "The `'player_pokemon'` keyed dictionaries for each player keep track of which of the pokemon each player has.\n",
    "\n",
    "The keys of the `'player_pokemon'` dictionaries are the pokemon ids that correspond to the ids in the `pokedex` dictionary you created earlier. The values are integers specifying the stats for the pokemon.\n",
    "\n",
    "Give player 1 a squirtle. Give player 2 charmander and a bulbasaur.\n",
    "\n",
    "Print the players dictionary after adding the pokemon for each player.\n"
   ]
  },
  {
   "cell_type": "code",
   "execution_count": 6,
   "metadata": {
    "scrolled": false
   },
   "outputs": [
    {
     "name": "stdout",
     "output_type": "stream",
     "text": [
      "('initial player list\\n', {1: {'time_played': 2.0, 'gyms_visited': [], 'player_name': 'Player 1', 'player_pokemon': {}}, 2: {'time_played': 1.5, 'gyms_visited': ['alcartraz', 'pacific_beach', 'gyms_visited'], 'player_name': 'Player 2', 'player_pokemon': {}}})\n",
      "--------------------------------------------------\n",
      "('after adding player 1 pokemon\\n', {1: {'time_played': 2.0, 'gyms_visited': [], 'player_name': 'Player 1', 'player_pokemon': {0: {'attack': 50, 'defence': 20, 'name': 'squirtle', 'special_attack': 100, 'speed': 30, 'hp': 500, 'type': 'water', 'special_defence': 40}}}, 2: {'time_played': 1.5, 'gyms_visited': ['alcartraz', 'pacific_beach', 'gyms_visited'], 'player_name': 'Player 2', 'player_pokemon': {}}})\n",
      "--------------------------------------------------\n",
      "('after adding player 2 pokemon\\n', {1: {'time_played': 2.0, 'gyms_visited': [], 'player_name': 'Player 1', 'player_pokemon': {0: {'attack': 50, 'defence': 20, 'name': 'squirtle', 'special_attack': 100, 'speed': 30, 'hp': 500, 'type': 'water', 'special_defence': 40}}}, 2: {'time_played': 1.5, 'gyms_visited': ['alcartraz', 'pacific_beach', 'gyms_visited'], 'player_name': 'Player 2', 'player_pokemon': {0: {'attack': 50, 'defence': 20, 'name': 'charmander', 'special_attack': 100, 'speed': 30, 'hp': 500, 'type': 'fire', 'special_defence': 40}, 1: {'attack': 50, 'defence': 20, 'name': 'bulbasaur', 'special_attack': 100, 'speed': 30, 'hp': 500, 'type': 'poison', 'special_defence': 40}}}})\n"
     ]
    }
   ],
   "source": [
    "#show initial player list\n",
    "print('initial player list\\n',players)\n",
    "\n",
    "#add squirtle for player1\n",
    "players[1]['player_pokemon'][0]=pokedex[2]\n",
    "\n",
    "#show list after adding player 1 pokemon\n",
    "print('-'*50)\n",
    "print('after adding player 1 pokemon\\n',players)\n",
    "\n",
    "#add squirtle for player2\n",
    "players[2]['player_pokemon'][0]=pokedex[1]\n",
    "players[2]['player_pokemon'][1]=pokedex[3]\n",
    "\n",
    "#show list after adding player 2 pokemon\n",
    "print('-'*50)\n",
    "print('after adding player 2 pokemon\\n',players)"
   ]
  },
  {
   "cell_type": "markdown",
   "metadata": {},
   "source": [
    "---\n",
    "<p><font size=\"3\" color=\"9966FF\">***Correct***.</font></p>\n",
    "\n",
    "--- \n"
   ]
  },
  {
   "cell_type": "markdown",
   "metadata": {},
   "source": [
    "\n",
    "\n",
    "## 6. What gyms have players visited?\n",
    "\n",
    "---\n",
    "<img src=\"http://imgur.com/l5NasQj.png\" style=\"float: left; margin: 25px 15px 0px 0px; height: 25px\">\n",
    "### 6.1\n",
    "\n",
    "Write a for-loop that:\n",
    "\n",
    "1. Iterates through the `pokemon_gyms` list of gym locations you defined before.\n",
    "2. For each gym, iterate through each player in the `players` dictionary with a second, internal for-loop.\n",
    "3. If the player has visited the gym, print out \"[player] has visited [gym location].\", filling in [player] and [gym location] with the current player's name and current gym location."
   ]
  },
  {
   "cell_type": "code",
   "execution_count": 8,
   "metadata": {
    "collapsed": true
   },
   "outputs": [],
   "source": [
    "for gym in pokemon_gyms:\n",
    "    #search by each gym location\n",
    "    for player in players:\n",
    "        #search by each player\n",
    "        if gym in players[player]['gyms_visited']:\n",
    "            print(players[player]['player_name'],\"has visited\",gym)"
   ]
  },
  {
   "cell_type": "markdown",
   "metadata": {},
   "source": [
    "---\n",
    "<p><font size=\"3\" color=\"9966FF\">***Correct***.</font></p>\n",
    "\n",
    "--- \n"
   ]
  },
  {
   "cell_type": "markdown",
   "metadata": {},
   "source": [
    "<img src=\"http://imgur.com/xDpSobf.png\" style=\"float: left; margin: 25px 15px 0px 0px; height: 25px\">\n",
    "### 6.2\n",
    "\n",
    "How many times did that loop run? If you have N gyms and also N players, how many times would it run as a function of N?\n",
    "\n",
    "Can you think of a more efficient way to accomplish the same thing? \n",
    "\n",
    "(You can write your answer as Markdown text.)"
   ]
  },
  {
   "cell_type": "code",
   "execution_count": 9,
   "metadata": {
    "collapsed": true
   },
   "outputs": [],
   "source": [
    "#A:\n",
    "\n",
    "#within N counts of gym, loop runs N counts of players. hence N loops of N, total times is N^2 or N**2\n",
    "#Answer1: The loop will run for N**2 times\n",
    "\n",
    "#more efficient way: run through the player list> player gym visited > check if in 'N' gyms\n",
    "#this way, the iterations will be N**2 only if all N players visited all N gyms\n",
    "\n",
    "#for player in players:\n",
    "#    for places in players[player]['gyms_visited']:\n",
    "#        print('{} has visited {}'.format(players[player]['player_name'],places))\n"
   ]
  },
  {
   "cell_type": "markdown",
   "metadata": {},
   "source": [
    "<img src=\"http://imgur.com/l5NasQj.png\" style=\"float: left; margin: 25px 15px 0px 0px; height: 25px\">\n",
    "\n",
    "## 7. Calculate player \"power\".\n",
    "\n",
    "---\n",
    "\n",
    "Define a function that will calculate a player's \"power\". Player power is defined as the sum of the base statistics all of their pokemon.\n",
    "\n",
    "Your function will:\n",
    "\n",
    "1. Accept the `players` dictionary, `pokedex` dictionary, and a player_id as arguments.\n",
    "2. For the specified player_id, look up that player's pokemon and their level(s).\n",
    "3. Find and aggregate the attack and defense values for each of the player's pokemon from the `pokedex` dictionary.\n",
    "4. Print \"[player name]'s power is [player power].\", where the player power is the sum of the base statistics for all of their pokemon.\n",
    "5. Return the player's power value.\n",
    "\n",
    "Print out the pokemon power for each of your players."
   ]
  },
  {
   "cell_type": "code",
   "execution_count": 10,
   "metadata": {},
   "outputs": [
    {
     "name": "stdout",
     "output_type": "stream",
     "text": [
      "Player 2's power is 420\n"
     ]
    },
    {
     "data": {
      "text/plain": [
       "420"
      ]
     },
     "execution_count": 10,
     "metadata": {},
     "output_type": "execute_result"
    }
   ],
   "source": [
    "def calculate_power(player_input, pokedex_input, player_id):\n",
    "    # function that adds up the values of attack, defense, special_attack, special_defense\n",
    "    # input: (1) player_input[type:dict] player database\n",
    "    #        (2) pokedex_input[type:dict] pokedex database\n",
    "    #        (3) player_id[type:int] the ID of the player we are looking at\n",
    "    \n",
    "    player_power=0 #initialise a variable that's used to store the sum \n",
    "    \n",
    "    for pokemon in range(0,len(players[player_id]['player_pokemon'])):\n",
    "        #scanning through each pokemon which the player has\n",
    "        \n",
    "        player_power+=players[player_id]['player_pokemon'][pokemon]['attack']\n",
    "        player_power+=players[player_id]['player_pokemon'][pokemon]['defence']\n",
    "        player_power+=players[player_id]['player_pokemon'][pokemon]['special_attack']\n",
    "        player_power+=players[player_id]['player_pokemon'][pokemon]['special_defence']\n",
    "        \n",
    "    print(\"{}'s power is {}\".format(players[player_id]['player_name'], player_power))\n",
    "        \n",
    "    return player_power\n",
    "          \n",
    "calculate_power(players,pokedex,2) # try running the function and see the output"
   ]
  },
  {
   "cell_type": "markdown",
   "metadata": {},
   "source": [
    "---\n",
    "<p><font size=\"3\" color=\"9966FF\">***Correct***.</font></p>\n",
    "\n",
    "--- \n"
   ]
  },
  {
   "cell_type": "markdown",
   "metadata": {
    "collapsed": true
   },
   "source": [
    "<img src=\"http://imgur.com/l5NasQj.png\" style=\"float: left; margin: 25px 15px 0px 0px; height: 25px\">\n",
    "\n",
    "## 8. Load a pokedex file containing all the pokemon\n",
    "\n",
    "---\n",
    "\n",
    "### 8.1\n",
    "\n",
    "While you were putting together the prototype code, your colleagues were preparing a dataset of Pokemon and their attributes. (This was a rush job, so they may have picked some crazy values for some...)\n",
    "\n",
    "The code below loads information from a comma separated value (csv) file. You need to parse this string into a more useable format. The format of the string is:\n",
    "\n",
    "- Rows are separated by newline characters: \\n\n",
    "- Columns are separated by commas: ,\n",
    "- All cells in the csv are double quoted. Ex: \"PokedexNumber\" is the first cell of the first row.\n",
    "\n",
    "\n",
    "Using for-loops, create a list of lists where each list within the overall list is a row of the csv/matrix, and each element in that list is a cell in that row. Additional criteria:\n",
    "\n",
    "1. Quotes are removed from each cell item.\n",
    "2. Numeric column values are converted to floats.\n",
    "3. There are some cells that are empty and have no information. For these cells put a -1 value in place.\n",
    "\n",
    "Your end result is effectively a matrix. Each list in the outer list is a row, and the *j*th elements of list together form the *j*th column, which represents a data attribute. The first three lists in your pokedex list should look like this:\n",
    "\n",
    "    ['PokedexNumber', 'Name', 'Type', 'Total', 'HP', 'Attack', 'Defense', 'SpecialAttack', 'SpecialDefense', 'Speed']\n",
    "    [1.0, 'Bulbasaur', 'GrassPoison', 318.0, 45.0, 49.0, 49.0, 65.0, 65.0, 45.0]\n",
    "    [2.0, 'Ivysaur', 'GrassPoison', 405.0, 60.0, 62.0, 63.0, 80.0, 80.0, 60.0]"
   ]
  },
  {
   "cell_type": "code",
   "execution_count": 7,
   "metadata": {
    "collapsed": true
   },
   "outputs": [],
   "source": [
    "# read the data from a file, put it in a variable \"raw_pd\"\n",
    "# output is a string \n",
    "raw_pd = ''\n",
    "pokedex_file = 'pokedex_basic.csv'\n",
    "with open(pokedex_file, 'r') as f:\n",
    "    raw_pd = f.read()"
   ]
  },
  {
   "cell_type": "code",
   "execution_count": 8,
   "metadata": {
    "collapsed": true
   },
   "outputs": [],
   "source": [
    "# transform the string into rows, store each row as an item in a list\n",
    "temp_pd = raw_pd.splitlines()"
   ]
  },
  {
   "cell_type": "code",
   "execution_count": 9,
   "metadata": {
    "collapsed": true
   },
   "outputs": [],
   "source": [
    "pd_clean=[] # variable used to store the processed/final imported pokedex\n",
    "\n",
    "for line_count in range(0,len(temp_pd)): #scan through each line of temp_pd\n",
    "    line=list(temp_pd[line_count].split(',')) #split the line into lists\n",
    "    temp_line=[]\n",
    "    for line_item_count in range(0,len(line)): #scan through each item of the list\n",
    "        temp_item = line[line_item_count][1:len(line[line_item_count])-1] #remove the quotes(1st and last char)\n",
    "        if (line_item_count not in [1,2] and line_count not in [0]): #ignore the header row and 'name'&'type'\n",
    "            temp_item=float(temp_item) #convert into float\n",
    "        temp_line.append(temp_item) #add the new items into a new line\n",
    "\n",
    "    pd_clean.append(temp_line) #update new line into the new pokedex"
   ]
  },
  {
   "cell_type": "code",
   "execution_count": 10,
   "metadata": {
    "scrolled": true
   },
   "outputs": [
    {
     "name": "stdout",
     "output_type": "stream",
     "text": [
      "['PokedexNumber', 'Name', 'Type', 'Total', 'HP', 'Attack', 'Defense', 'SpecialAttack', 'SpecialDefense', 'Speed']\n",
      "[1.0, 'Bulbasaur', 'GrassPoison', 318.0, 45.0, 49.0, 49.0, 65.0, 65.0, 45.0]\n",
      "[2.0, 'Ivysaur', 'GrassPoison', 405.0, 60.0, 62.0, 63.0, 80.0, 80.0, 60.0]\n"
     ]
    }
   ],
   "source": [
    "print(pd_clean[0])\n",
    "print(pd_clean[1])\n",
    "print(pd_clean[2])"
   ]
  },
  {
   "cell_type": "markdown",
   "metadata": {},
   "source": [
    "---\n",
    "<p><font size=\"3\" color=\"9966FF\">***Correct***.</font></p>\n",
    "\n",
    "--- \n"
   ]
  },
  {
   "cell_type": "markdown",
   "metadata": {},
   "source": [
    "<img src=\"http://imgur.com/xDpSobf.png\" style=\"float: left; margin: 25px 15px 0px 0px; height: 25px\">\n",
    "\n",
    "### 8.2 Parse the raw pokedex with list comprehensions\n",
    "\n",
    "---\n",
    "\n",
    "Perform the same parsing as above, but **using only a single list comprehension** instead of for loops. You may have nested list comprehensions within the main list comprehension! The output should be exactly the same."
   ]
  },
  {
   "cell_type": "code",
   "execution_count": 15,
   "metadata": {
    "collapsed": true
   },
   "outputs": [],
   "source": [
    "#answer:\n"
   ]
  },
  {
   "cell_type": "markdown",
   "metadata": {},
   "source": [
    "<img src=\"http://imgur.com/l5NasQj.png\" style=\"float: left; margin: 25px 15px 0px 0px; height: 25px\">\n",
    "\n",
    "## 9. Write a function to generate the full pokedex\n",
    "\n",
    "---\n",
    "\n",
    "Write a function that recreates the pokedex you made before, but with the data read in from the full pokemon file. The `PokedexNumber` should be used as the `pokemon_id` key values for the dictionary of pokemon.\n",
    "\n",
    "Your function should:\n",
    "\n",
    "1. Take the parsed pokedex information you created above as an argument.\n",
    "2. Return a dictionary in the same format as your original pokedex you created before containing the information from the parsed full pokedex file.\n",
    "\n",
    "To test the function, print out the pokemon with id = 100."
   ]
  },
  {
   "cell_type": "code",
   "execution_count": 11,
   "metadata": {
    "scrolled": false
   },
   "outputs": [
    {
     "name": "stdout",
     "output_type": "stream",
     "text": [
      "{'attack': 30.0, 'defense': 50.0, 'name': 'Voltorb', 'special_attack': 55.0, 'speed': 100.0, 'hp': 40.0, 'total': 330.0, 'type': 'Electric', 'special_defense': 55.0}\n"
     ]
    }
   ],
   "source": [
    "def create_new_pokedex(input_file):\n",
    "    new_pokedex={}\n",
    "    for count in range(1,len(input_file)):\n",
    "        new_pokedex.update({\n",
    "            input_file[count][0]:{\n",
    "                \n",
    "                'name':input_file[count][1],\n",
    "                'type':input_file[count][2],\n",
    "                'total':input_file[count][3],\n",
    "                'hp':input_file[count][4],\n",
    "                'attack':input_file[count][5],\n",
    "                'defense':input_file[count][6],\n",
    "                'special_attack':input_file[count][7],\n",
    "                'special_defense':input_file[count][8],\n",
    "                'speed':input_file[count][9]\n",
    "\n",
    "            }        \n",
    "        })\n",
    "    return new_pokedex\n",
    "\n",
    "pokedex_v2=create_new_pokedex(pd_clean)\n",
    "print(pokedex_v2[100])"
   ]
  },
  {
   "cell_type": "markdown",
   "metadata": {},
   "source": [
    "---\n",
    "<p><font size=\"3\" color=\"9966FF\">***Correct***. But if we compare number of pokemons in input dataset with number of them in processed dictionary, we noticed that some data was lost. Some pokemons in the input file has the same ids, so when you update `new_pokedex` dictionary by id, you also overwrite the pokemons with same ids. </font></p>\n",
    "\n",
    "--- \n"
   ]
  },
  {
   "cell_type": "code",
   "execution_count": 13,
   "metadata": {},
   "outputs": [
    {
     "data": {
      "text/plain": [
       "801"
      ]
     },
     "execution_count": 13,
     "metadata": {},
     "output_type": "execute_result"
    }
   ],
   "source": [
    "len(pd_clean)"
   ]
  },
  {
   "cell_type": "code",
   "execution_count": 14,
   "metadata": {},
   "outputs": [
    {
     "data": {
      "text/plain": [
       "721"
      ]
     },
     "execution_count": 14,
     "metadata": {},
     "output_type": "execute_result"
    }
   ],
   "source": [
    "len(pokedex_v2)"
   ]
  },
  {
   "cell_type": "markdown",
   "metadata": {},
   "source": [
    "<img src=\"http://i.imgur.com/GCAf1UX.png\" style=\"float: left; margin: 25px 15px 0px 0px; height: 25px\">\n",
    "\n",
    "## 10. Write a function to generate a \"filtered\" pokedex\n",
    "---\n",
    "Your function should:\n",
    "1. Take the parsed pokedex information you created above as an argument.\n",
    "1. Take a dictionary as a parameter with keys matching the features of the Pokedex, filtering by exact match for string type values, and/or filter continuous variables specified value that is greater than or equal to the dictionary key parameter.\n",
    "1. Return multiple elements from the Pokedex\n",
    "\n",
    "Example:\n",
    "\n",
    "```python\n",
    "\n",
    "# Only filter based on parameters passed\n",
    "filter_options = {\n",
    "    'Attack':   25,\n",
    "    'Defense':  30,\n",
    "    'Type':     'Electric'\n",
    "}\n",
    "\n",
    "# Return records with attack >= 24, defense >= 30, and type == \"Electric\"\n",
    "# Also anticipate that other paramters can also be passed such as \"SpecialAttack\", \"Speed\", etc.\n",
    "filtered_pokedex(pokedex_data, filter=filter_options)\n",
    "\n",
    "# Example output:\n",
    "# [{'Attack': 30.0,\n",
    "#  'Defense': 50.0,\n",
    "#  'HP': 40.0,\n",
    "#  'Name': 'Voltorb',\n",
    "#  'SpecialAttack': 55.0,\n",
    "#  'SpecialDefense': 55.0,\n",
    "#  'Speed': 100.0,\n",
    "#  'Total': 330.0,\n",
    "#  'Type': 'Electric'},\n",
    "#  {'Attack': 30.0,\n",
    "#  'Defense': 33.0,\n",
    "#  'HP': 32.0,\n",
    "#  'Name': 'Pikachu',\n",
    "#  'SpecialAttack': 55.0,\n",
    "#  'SpecialDefense': 55.0,\n",
    "#  'Speed': 100.0,\n",
    "#  'Total': 330.0,\n",
    "#  'Type': 'Electric'},\n",
    "#  ... etc\n",
    "#  ]\n",
    "\n",
    "```\n",
    "\n"
   ]
  },
  {
   "cell_type": "code",
   "execution_count": 16,
   "metadata": {},
   "outputs": [
    {
     "name": "stdout",
     "output_type": "stream",
     "text": [
      "{0: {'attack': 170.0, 'defense': 115.0, 'name': 'GarchompMega Garchomp', 'special_attack': 120.0, 'speed': 92.0, 'hp': 108.0, 'total': 700.0, 'type': 'DragonGround', 'special_defense': 95.0}}\n"
     ]
    }
   ],
   "source": [
    "\n",
    "def filter_pokedex(pokedex_data, filter_criteria):\n",
    "    \n",
    "    # function to filter pokemon. \n",
    "    # input: pokedex_data(type:dict), filter_criteria(type) \n",
    "    # output: dict of pokemon from pokedex_data that meets the filter_criteria\n",
    "    \n",
    "    original_list=pokedex_data #this variable is for the list to be filtered (useful for subsequent iterations)\n",
    "    filtered_list={} #variable for pokemon that meets the filter criteria\n",
    "    \n",
    "    for each_criteria in filter_criteria: #scan through each criteria in filter_criteria\n",
    "        results_found=0 # used as a key for filtered_list\n",
    "        filtered_list={0:None} # initialise an empty dict. but put result 0 as none\n",
    "        \n",
    "        for count in range(1,len(original_list)):\n",
    "            \n",
    "            # filter by name or type\n",
    "            if (each_criteria.lower()=='name' or each_criteria.lower()=='type'):\n",
    "                if (original_list[count][each_criteria.lower()] == filter_criteria[each_criteria]):\n",
    "                    filtered_list.update({results_found:original_list[count]})\n",
    "                    results_found+=1\n",
    "            \n",
    "            # filter by hp, attack, defense, special_attack, special_defense, speed\n",
    "            elif (each_criteria.lower()=='hp' or each_criteria.lower()=='attack' \n",
    "                  or each_criteria.lower()=='defense' or each_criteria.lower()=='special_attack'\n",
    "                  or each_criteria.lower()=='special_defense'or each_criteria.lower()=='speed'\n",
    "                  or each_criteria.lower()=='total'):\n",
    "            \n",
    "                if (original_list[count][each_criteria.lower()] > filter_criteria[each_criteria]):\n",
    "                    filtered_list.update({results_found:original_list[count]})\n",
    "                    results_found+=1\n",
    "            else:\n",
    "                print('invalid filter criteria')\n",
    "                return None          \n",
    "            \n",
    "        original_list=filtered_list # set the original_list as filtered_list so that \n",
    "                                    # next search iteration will be using the current filtered_list\n",
    "        \n",
    "    return filtered_list\n",
    "\n",
    "\n",
    "search_criteria={\n",
    "    'Total':50,\n",
    "    'Attack':160,\n",
    "    'Defense':100,\n",
    "    #'Type':'Normal',\n",
    "    'special_defense':80,\n",
    "    'special_attack':10,\n",
    "    #'Name':'Arceus'\n",
    "}\n",
    "    \n",
    "print(filter_pokedex(pokedex_v2,search_criteria))\n"
   ]
  },
  {
   "cell_type": "markdown",
   "metadata": {
    "collapsed": true
   },
   "source": [
    "\n",
    "## 9. Descriptive statistics on the prototype pokedex\n",
    "\n",
    "<img src=\"http://imgur.com/l5NasQj.png\" style=\"float: left; margin: 25px 15px 0px 0px; height: 25px\">\n",
    "### 9.1\n",
    "\n",
    "What is the population mean and standard deviation of the \"Total\" attribute for all characters in the Pokedex?\n",
    "\n"
   ]
  },
  {
   "cell_type": "code",
   "execution_count": 17,
   "metadata": {},
   "outputs": [
    {
     "name": "stdout",
     "output_type": "stream",
     "text": [
      "The \"Total\" population mean is 424.9501 and standard deviation is 118.7118\n"
     ]
    }
   ],
   "source": [
    "import numpy as np\n",
    "\n",
    "# get a list of all the 'total' values for pokemon\n",
    "# range will be 1 to len+1 because pokemon ID starts with 1 instead of 0\n",
    "pokemon_total=[pokedex_v2[count]['total'] for count in range (1, len(pokedex_v2)+1)] \n",
    "\n",
    "print('The \"Total\" population mean is {} and standard deviation is {}'\n",
    "      .format(round(np.mean(pokemon_total),4),round(np.std(pokemon_total),4)))"
   ]
  },
  {
   "cell_type": "markdown",
   "metadata": {},
   "source": [
    "---\n",
    "<p><font size=\"3\" color=\"9966FF\">***Correct code***. But while you removed some pokemons, the values of mean and std are not correct</font></p>\n",
    "\n",
    "--- \n"
   ]
  },
  {
   "cell_type": "markdown",
   "metadata": {},
   "source": [
    "<img src=\"http://imgur.com/l5NasQj.png\" style=\"float: left; margin: 25px 15px 0px 0px; height: 25px\">\n",
    "### 9.2\n",
    "\n",
    "The game is no fun if the characters are wildly unbalanced! Are any characters \"overpowered\", which we'll define as having a \"Total\" more than three standard deviations from the population mean?"
   ]
  },
  {
   "cell_type": "code",
   "execution_count": 19,
   "metadata": {},
   "outputs": [
    {
     "name": "stdout",
     "output_type": "stream",
     "text": [
      "the \"overpowered\" pokemons are: {0: None}\n"
     ]
    }
   ],
   "source": [
    "# we are looking for any pokemon that has 'total' > mean + 3x std\n",
    "\n",
    "search_criteria={\n",
    "    # search for total only\n",
    "    # total with value more than: mean + 3x std\n",
    "    'Total':(round(np.mean(pokemon_total) + 3 * np.std(pokemon_total) , 4))\n",
    "}\n",
    "    \n",
    "print('the \"overpowered\" pokemons are: {}'.format(filter_pokedex(pokedex_v2,search_criteria)))"
   ]
  },
  {
   "cell_type": "markdown",
   "metadata": {},
   "source": [
    "---\n",
    "<p><font size=\"3\" color=\"9966FF\">***Correct code***. But while you removed some pokemons, the overpowered pokemons probably also  not in the dataset anymore. </font></p>\n",
    "\n",
    "--- \n"
   ]
  },
  {
   "cell_type": "markdown",
   "metadata": {},
   "source": [
    "<img src=\"http://imgur.com/xDpSobf.png\" style=\"float: left; margin: 25px 15px 0px 0px; height: 25px\">\n",
    "\n",
    "## 10. Calibrate the frequency of Pokemon\n",
    "\n",
    "The design team wants you to make the powerful Pokemon rare, and the weaklings more common. How would you set the probability $p_i$ of finding Pokemon *i* each time a player visits a gym?\n",
    "\n",
    "Write a function that takes in a Pokedex number and returns a value $p_i$ for that character.\n",
    "\n",
    "Hint: there are many ways you could do this. What do _you_ think makes sense? Start with simplifying assumptions: for example, you could assume that the probabilities of encountering any two Pokemon on one visit to a gym are independent of each other."
   ]
  },
  {
   "cell_type": "code",
   "execution_count": 20,
   "metadata": {},
   "outputs": [
    {
     "data": {
      "text/plain": [
       "0.576923"
      ]
     },
     "execution_count": 20,
     "metadata": {},
     "output_type": "execute_result"
    }
   ],
   "source": [
    "# frequency of pokemon appearing: more appearance for weaker, less appearance for stronger\n",
    "# treating each visit to any gym is independent\n",
    "# input: pokedex_input(type=dict), pokemon_ID(type=int/float)\n",
    "# output: pokemon_frequency(float), that is between [0,1]\n",
    "\n",
    "def calculate_pokemon_frequency (pokedex_input, pokemon_id):\n",
    "    \n",
    "    adjustment_factor=1.0 # this variable is just a variable to make the difference more distinct\n",
    "                          # 1.0 means normal, 10.0 means even harder\n",
    "    base_probability=0.25  # this variable determines how easy the strongest pokemon appears\n",
    "    \n",
    "    # pokemon_total was created in question 9.1 to create a list of all total numbers\n",
    "    # set the percentage \n",
    "    \n",
    "    # formula for calculating the probability is based on the pokemon's 'total' as a percentage of max 'total'\n",
    "    # probability = base_probability + 1 - ( pokedex_input[pokemon_id]['total'] / np.max(pokemon_total))\n",
    "    \n",
    "    pokemon_frequency = base_probability + 1 - (pokedex_input[pokemon_id]['total'] / np.max(pokemon_total))\n",
    "    \n",
    "    if pokemon_frequency > 1: \n",
    "        pokemon_frequency=1\n",
    "        \n",
    "    if pokemon_frequency<0:\n",
    "        pokemon_frequency=0\n",
    "        \n",
    "    return round(pokemon_frequency,6)\n",
    "\n",
    "# to check all the probability of pokemon appearing \n",
    "#print([calculate_pokemon_frequency(pokedex_v2, count) for count in range(1,len(pokedex_v2)+1)])\n",
    "\n",
    "\n",
    "# function to call to check pokemon number 700 within pokedex_v2\n",
    "calculate_pokemon_frequency(pokedex_v2, 700)    "
   ]
  }
 ],
 "metadata": {
  "anaconda-cloud": {},
  "kernelspec": {
   "display_name": "Python 2",
   "language": "python",
   "name": "python2"
  },
  "language_info": {
   "codemirror_mode": {
    "name": "ipython",
    "version": 2
   },
   "file_extension": ".py",
   "mimetype": "text/x-python",
   "name": "python",
   "nbconvert_exporter": "python",
   "pygments_lexer": "ipython2",
   "version": "2.7.6"
  }
 },
 "nbformat": 4,
 "nbformat_minor": 1
}
