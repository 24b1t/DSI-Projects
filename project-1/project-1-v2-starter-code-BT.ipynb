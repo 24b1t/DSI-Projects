{
 "cells": [
  {
   "cell_type": "markdown",
   "metadata": {},
   "source": [
    "<img src=\"http://imgur.com/1ZcRyrc.png\" style=\"float: left; margin: 15px; height: 80px\">\n",
    "\n",
    "# Project 1\n",
    "\n",
    "### Building \"Pokemon Stay\"\n",
    "\n",
    "---\n",
    "You are an analyst at a \"scrappy\" online gaming company that specializes in remakes of last year's fads.\n",
    "\n",
    "Your boss, who runs the product development team, is convinced that Pokemon Go's fatal flaw was that you had to actually move around outside. She has design mock-ups for a new game called Pokemon Stay: in this version players still need to move, but just from website to website. Pokemon gyms are now popular online destinations, and catching Pokemon in the \"wild\" simply requires browsing the internet for hours in the comfort of your home.\n",
    "\n",
    "She wants you to program a prototype version of the game, and analyze the planned content to help the team calibrate the design."
   ]
  },
  {
   "cell_type": "markdown",
   "metadata": {},
   "source": [
    "#### Package imports\n",
    "\n",
    "The pprint package below is the only package imported here, and it's not even strictly required to do any of the project. Printing python variables and objects with pprint can help to format them in a \"prettier\" way."
   ]
  },
  {
   "cell_type": "code",
   "execution_count": 1,
   "metadata": {},
   "outputs": [],
   "source": [
    "from pprint import pprint"
   ]
  },
  {
   "cell_type": "markdown",
   "metadata": {},
   "source": [
    "<img src=\"http://imgur.com/l5NasQj.png\" style=\"float: left; margin: 25px 15px 0px 0px; height: 25px\">\n",
    "\n",
    "## 1. Defining a player\n",
    "\n",
    "---\n",
    "\n",
    "The player variables are:\n",
    "\n",
    "    player_id : id code unique to each player (integer)\n",
    "    player_name : entered name of the player (string)\n",
    "    time_played : number of time played the game in minutes (float)\n",
    "    player_pokemon: the player's captured pokemon (dictionary)\n",
    "    gyms_visited: ids of the gyms that a player has visited (list)\n",
    "    \n",
    "Create the components for a player object by defining each of these variables. The dictionary and list variables should just be defined as empty; you can use any (correctly typed) values for the others."
   ]
  },
  {
   "cell_type": "code",
   "execution_count": 2,
   "metadata": {},
   "outputs": [],
   "source": [
    "player_id=0\n",
    "player_name=''\n",
    "time_played=0.0\n",
    "player_pokemon={}\n",
    "gyms_visited=[]"
   ]
  },
  {
   "cell_type": "markdown",
   "metadata": {},
   "source": [
    "<img src=\"http://imgur.com/l5NasQj.png\" style=\"float: left; margin: 25px 15px 0px 0px; height: 25px\">\n",
    "\n",
    "## 2. Defining \"gym\" locations\n",
    "\n",
    "---\n",
    "\n",
    "As the sole programmer, Pokemon Stay will have to start small. To begin, there will be 10 different gym location websites on the internet. The gym locations are:\n",
    "\n",
    "    1. 'reddit.com'\n",
    "    2. 'amazon.com'\n",
    "    3. 'twitter.com'\n",
    "    4. 'linkedin.com'\n",
    "    5. 'ebay.com'\n",
    "    6. 'netflix.com'\n",
    "    7. 'sporcle.com'\n",
    "    8. 'stackoverflow.com'\n",
    "    9. 'github.com'\n",
    "    10. 'quora.com'\n",
    "\n",
    "1. Set up a list of all the gym locations. This will be a list of strings.\n",
    "2. Append two of these locations to your player's list of visited gyms.\n",
    "3. Print the list."
   ]
  },
  {
   "cell_type": "code",
   "execution_count": 3,
   "metadata": {},
   "outputs": [],
   "source": [
    "pokemon_gyms=['reddit.com','amazon.com','twitter.com','linkedin.com','ebay.com','netflix.com',\n",
    "              'sporcle.com','stackoverflow.com','github.com','quora.com']"
   ]
  },
  {
   "cell_type": "markdown",
   "metadata": {},
   "source": [
    "<img src=\"http://imgur.com/l5NasQj.png\" style=\"float: left; margin: 25px 15px 0px 0px; height: 25px\">\n",
    "\n",
    "## 3. Create a pokedex\n",
    "\n",
    "---\n",
    "\n",
    "We also need to create some pokemon to catch. Each pokemon will be defined by these variables:\n",
    "\n",
    "    pokemon_id : unique identifier for each pokemon (integer)\n",
    "    name : the name of the pokemon (string)\n",
    "    type : the category of pokemon (string)\n",
    "    hp : base hitpoints (integer)\n",
    "    attack : base attack (integer)\n",
    "    defense : base defense (integer)\n",
    "    special_attack : base special attack (integer)\n",
    "    special_defense : base sepecial defense (integer)\n",
    "    speed : base speed (integer)\n",
    "\n",
    "We are only going to create 3 different pokemon with these `pokemon_id` and `pokemon_name` values:\n",
    "\n",
    "    1 : 'charmander'\n",
    "    2 : 'squirtle'\n",
    "    3 : 'bulbasaur'\n",
    "\n",
    "Create a dictionary that will contain the pokemon. The keys of the dictionary will be the `pokemon_id` and the values will themselves dictionaries that contain the other pokemon variables. The structure of the pokedex dictionary will start like so:\n",
    "     \n",
    "     {\n",
    "         1: {\n",
    "                 'name':'charmander',\n",
    "                 'type':'fire',\n",
    "                 ...\n",
    "                 \n",
    "The `type` of charmander, squirtle, and bulbasaur should be `'fire'`, `'water'`, and `'poison'` respectively. The other values are up to you, make them anything you like!\n",
    "\n",
    "Print (or pretty print) the pokedex dictionary with the 3 pokemon."
   ]
  },
  {
   "cell_type": "code",
   "execution_count": 4,
   "metadata": {},
   "outputs": [],
   "source": [
    "pokedex={\n",
    "    \n",
    "    1:{\n",
    "        'name':'charmander',\n",
    "        'type':'fire',\n",
    "        'hp':500,\n",
    "        'attack':50,\n",
    "        'defence':20,\n",
    "        'special_attack':100,\n",
    "        'special_defence':40,\n",
    "        'speed':30\n",
    "    },\n",
    "    \n",
    "    2:{\n",
    "        'name':'squirtle',\n",
    "        'type':'water',\n",
    "        'hp':500,\n",
    "        'attack':50,\n",
    "        'defence':20,\n",
    "        'special_attack':100,\n",
    "        'special_defence':40,\n",
    "        'speed':30\n",
    "    },\n",
    "    \n",
    "    3:{\n",
    "        'name':'bulbasaur',\n",
    "        'type':'poison',\n",
    "        'hp':500,\n",
    "        'attack':50,\n",
    "        'defence':20,\n",
    "        'special_attack':100,\n",
    "        'special_defence':40,\n",
    "        'speed':30\n",
    "    }   \n",
    "}"
   ]
  },
  {
   "cell_type": "markdown",
   "metadata": {},
   "source": [
    "<img src=\"http://imgur.com/l5NasQj.png\" style=\"float: left; margin: 25px 15px 0px 0px; height: 25px\">\n",
    "\n",
    "## 4. Create a data structure for players\n",
    "\n",
    "---\n",
    "\n",
    "### 4.1 \n",
    "\n",
    "In order to maintain a database of multiple players, create a dictionary that keeps track of players indexed by `player_id`. \n",
    "\n",
    "The keys of the dictionary will be `player_id` and values will be dictionaries containing each player's variables (from question 1). \n",
    "\n",
    "Construct the `players` dictionary and insert the player that you defined in question 1, then print `players`."
   ]
  },
  {
   "cell_type": "code",
   "execution_count": 5,
   "metadata": {},
   "outputs": [
    {
     "name": "stdout",
     "output_type": "stream",
     "text": [
      "{1: {'player_name': 'Player 1', 'time_played': 2.0, 'player_pokemon': {}, 'gyms_visited': ['reddit.com']}}\n"
     ]
    }
   ],
   "source": [
    "# player_id(int), player_name(str), time_played(float),player_pokemon(dict), gyms_visited(list)\n",
    "\n",
    "players={}\n",
    "\n",
    "players.update({\n",
    "\n",
    "    #player 1\n",
    "    1:\n",
    "    {\n",
    "        'player_name':'Player 1',\n",
    "        'time_played':2.0,\n",
    "        'player_pokemon':{},\n",
    "        #'gyms_visited':[] #actual answer\n",
    "        'gyms_visited':['reddit.com'] #for testing only: reddit added\n",
    "    }\n",
    "\n",
    "})\n",
    "\n",
    "print(players)"
   ]
  },
  {
   "cell_type": "markdown",
   "metadata": {},
   "source": [
    "---\n",
    "\n",
    "### 4.2\n",
    "\n",
    "Create a new player with `player_id = 2` in the `players` dictionary. Leave the `'player_pokemon'` dictionary empty. Append `'alcatraz'` and `'pacific_beach'` to the `'gyms_visited'` list for player 2.\n",
    "\n",
    "The `'player_name'` and `'time_played'` values are up to you, but must be a string and float, respectively.\n",
    "\n",
    "Remember, the player_id is the key for the player in the players dictionary.\n",
    "\n",
    "Print the `players` dictionary with the new player inserted."
   ]
  },
  {
   "cell_type": "code",
   "execution_count": 6,
   "metadata": {},
   "outputs": [
    {
     "name": "stdout",
     "output_type": "stream",
     "text": [
      "{1: {'player_name': 'Player 1', 'time_played': 2.0, 'player_pokemon': {}, 'gyms_visited': ['reddit.com']}, 2: {'player_name': 'Player 2', 'time_played': 1.5, 'player_pokemon': {}, 'gyms_visited': ['alcartraz', 'pacific_beach', 'gyms_visited', 'github.com']}}\n"
     ]
    }
   ],
   "source": [
    "players.update({\n",
    "\n",
    "    #player 2\n",
    "    2:\n",
    "    {\n",
    "        'player_name':'Player 2',\n",
    "        'time_played':1.5,\n",
    "        'player_pokemon':{},\n",
    "        #'gyms_visited':['alcartraz','pacific_beach','gyms_visited'] #actual question\n",
    "        'gyms_visited':['alcartraz','pacific_beach','gyms_visited','github.com'] #for testing only- github added\n",
    "        \n",
    "    }\n",
    "\n",
    "})\n",
    "\n",
    "print(players)"
   ]
  },
  {
   "cell_type": "markdown",
   "metadata": {},
   "source": [
    "<img src=\"http://imgur.com/l5NasQj.png\" style=\"float: left; margin: 25px 15px 0px 0px; height: 25px\">\n",
    "\n",
    "## 5. Add captured pokemon for each player\n",
    "\n",
    "---\n",
    "\n",
    "The `'player_pokemon'` keyed dictionaries for each player keep track of which of the pokemon each player has.\n",
    "\n",
    "The keys of the `'player_pokemon'` dictionaries are the pokemon ids that correspond to the ids in the `pokedex` dictionary you created earlier. The values are integers specifying the stats for the pokemon.\n",
    "\n",
    "Give player 1 a squirtle. Give player 2 charmander and a bulbasaur.\n",
    "\n",
    "Print the players dictionary after adding the pokemon for each player.\n"
   ]
  },
  {
   "cell_type": "code",
   "execution_count": 7,
   "metadata": {
    "scrolled": true
   },
   "outputs": [
    {
     "name": "stdout",
     "output_type": "stream",
     "text": [
      "{1: {'player_name': 'Player 1', 'time_played': 2.0, 'player_pokemon': {}, 'gyms_visited': ['reddit.com']}, 2: {'player_name': 'Player 2', 'time_played': 1.5, 'player_pokemon': {}, 'gyms_visited': ['alcartraz', 'pacific_beach', 'gyms_visited', 'github.com']}}\n",
      "--------------------------------------------------\n",
      "{1: {'player_name': 'Player 1', 'time_played': 2.0, 'player_pokemon': {0: {'name': 'squirtle', 'type': 'water', 'hp': 500, 'attack': 50, 'defence': 20, 'special_attack': 100, 'special_defence': 40, 'speed': 30}}, 'gyms_visited': ['reddit.com']}, 2: {'player_name': 'Player 2', 'time_played': 1.5, 'player_pokemon': {}, 'gyms_visited': ['alcartraz', 'pacific_beach', 'gyms_visited', 'github.com']}}\n",
      "--------------------------------------------------\n",
      "{1: {'player_name': 'Player 1', 'time_played': 2.0, 'player_pokemon': {0: {'name': 'squirtle', 'type': 'water', 'hp': 500, 'attack': 50, 'defence': 20, 'special_attack': 100, 'special_defence': 40, 'speed': 30}}, 'gyms_visited': ['reddit.com']}, 2: {'player_name': 'Player 2', 'time_played': 1.5, 'player_pokemon': {0: {'name': 'charmander', 'type': 'fire', 'hp': 500, 'attack': 50, 'defence': 20, 'special_attack': 100, 'special_defence': 40, 'speed': 30}, 1: {'name': 'bulbasaur', 'type': 'poison', 'hp': 500, 'attack': 50, 'defence': 20, 'special_attack': 100, 'special_defence': 40, 'speed': 30}}, 'gyms_visited': ['alcartraz', 'pacific_beach', 'gyms_visited', 'github.com']}}\n"
     ]
    }
   ],
   "source": [
    "#show initial player list\n",
    "print(players)\n",
    "\n",
    "#add squirtle for player1\n",
    "players[1]['player_pokemon'][0]=pokedex[2]\n",
    "\n",
    "#show list after adding player 1 pokemon\n",
    "print('-'*50)\n",
    "print(players)\n",
    "\n",
    "#add squirtle for player2\n",
    "players[2]['player_pokemon'][0]=pokedex[1]\n",
    "players[2]['player_pokemon'][1]=pokedex[3]\n",
    "\n",
    "#show list after adding player 2 pokemon\n",
    "print('-'*50)\n",
    "print(players)"
   ]
  },
  {
   "cell_type": "markdown",
   "metadata": {},
   "source": [
    "\n",
    "\n",
    "## 6. What gyms have players visited?\n",
    "\n",
    "---\n",
    "<img src=\"http://imgur.com/l5NasQj.png\" style=\"float: left; margin: 25px 15px 0px 0px; height: 25px\">\n",
    "### 6.1\n",
    "\n",
    "Write a for-loop that:\n",
    "\n",
    "1. Iterates through the `pokemon_gyms` list of gym locations you defined before.\n",
    "2. For each gym, iterate through each player in the `players` dictionary with a second, internal for-loop.\n",
    "3. If the player has visited the gym, print out \"[player] has visited [gym location].\", filling in [player] and [gym location] with the current player's name and current gym location."
   ]
  },
  {
   "cell_type": "code",
   "execution_count": 8,
   "metadata": {},
   "outputs": [
    {
     "name": "stdout",
     "output_type": "stream",
     "text": [
      "Player 1 has visited reddit.com\n",
      "Player 2 has visited github.com\n"
     ]
    }
   ],
   "source": [
    "for gym in pokemon_gyms:\n",
    "    #search by each gym location\n",
    "    #print(\"current gym is: \",gym)\n",
    "    for player in players:\n",
    "        #search by each player\n",
    "        #print(\"current player is: \",player)\n",
    "        if gym in players[player]['gyms_visited']:\n",
    "            print(players[player]['player_name'],\"has visited\",gym)"
   ]
  },
  {
   "cell_type": "markdown",
   "metadata": {},
   "source": [
    "<img src=\"http://imgur.com/xDpSobf.png\" style=\"float: left; margin: 25px 15px 0px 0px; height: 25px\">\n",
    "### 6.2\n",
    "\n",
    "How many times did that loop run? If you have N gyms and also N players, how many times would it run as a function of N?\n",
    "\n",
    "Can you think of a more efficient way to accomplish the same thing? \n",
    "\n",
    "(You can write your answer as Markdown text.)"
   ]
  },
  {
   "cell_type": "code",
   "execution_count": 9,
   "metadata": {},
   "outputs": [],
   "source": [
    "#A:\n",
    "\n",
    "#within N counts of gym, loop runs N counts of players. hence N loops of N, total times is N^2 or N**2\n",
    "#Answer1: The loop will run for N**2 times\n",
    "\n",
    "#more efficient way: run through the player list> player gym visited > check if in 'N' gyms\n",
    "#this way, the iterations will be N**2 only if all N players visited all N gyms\n",
    "\n",
    "#for player in players:\n",
    "#    for places in players[player]['gyms_visited']:\n",
    "#        print('{} has visited {}'.format(players[player]['player_name'],places))\n"
   ]
  },
  {
   "cell_type": "markdown",
   "metadata": {},
   "source": [
    "<img src=\"http://imgur.com/l5NasQj.png\" style=\"float: left; margin: 25px 15px 0px 0px; height: 25px\">\n",
    "\n",
    "## 7. Calculate player \"power\".\n",
    "\n",
    "---\n",
    "\n",
    "Define a function that will calculate a player's \"power\". Player power is defined as the sum of the base statistics all of their pokemon.\n",
    "\n",
    "Your function will:\n",
    "\n",
    "1. Accept the `players` dictionary, `pokedex` dictionary, and a player_id as arguments.\n",
    "2. For the specified player_id, look up that player's pokemon and their level(s).\n",
    "3. Find and aggregate the attack and defense values for each of the player's pokemon from the `pokedex` dictionary.\n",
    "4. Print \"[player name]'s power is [player power].\", where the player power is the sum of the base statistics for all of their pokemon.\n",
    "5. Return the player's power value.\n",
    "\n",
    "Print out the pokemon power for each of your players."
   ]
  },
  {
   "cell_type": "code",
   "execution_count": 10,
   "metadata": {},
   "outputs": [
    {
     "name": "stdout",
     "output_type": "stream",
     "text": [
      "Player 2's power is 420\n"
     ]
    },
    {
     "data": {
      "text/plain": [
       "420"
      ]
     },
     "execution_count": 10,
     "metadata": {},
     "output_type": "execute_result"
    }
   ],
   "source": [
    "def calculate_power(player_input, pokedex_input, player_id):\n",
    "    #print(players[player_id])\n",
    "    #print(players[player_id]['player_pokemon'])\n",
    "    \n",
    "    player_power=0\n",
    "    \n",
    "   \n",
    "    for pokemon in range(0,len(players[player_id]['player_pokemon'])):\n",
    "        #print(players[player_id]['player_pokemon'][pokemon])\n",
    "        \n",
    "        player_power+=players[player_id]['player_pokemon'][pokemon]['attack']\n",
    "        player_power+=players[player_id]['player_pokemon'][pokemon]['defence']\n",
    "        player_power+=players[player_id]['player_pokemon'][pokemon]['special_attack']\n",
    "        player_power+=players[player_id]['player_pokemon'][pokemon]['special_defence']\n",
    "        \n",
    "    print(\"{}'s power is {}\".format(players[player_id]['player_name'], player_power))\n",
    "        \n",
    "    return player_power\n",
    "          \n",
    "calculate_power(players,pokedex,2)"
   ]
  },
  {
   "cell_type": "markdown",
   "metadata": {
    "collapsed": true
   },
   "source": [
    "<img src=\"http://imgur.com/l5NasQj.png\" style=\"float: left; margin: 25px 15px 0px 0px; height: 25px\">\n",
    "\n",
    "## 8. Load a pokedex file containing all the pokemon\n",
    "\n",
    "---\n",
    "\n",
    "### 8.1\n",
    "\n",
    "While you were putting together the prototype code, your colleagues were preparing a dataset of Pokemon and their attributes. (This was a rush job, so they may have picked some crazy values for some...)\n",
    "\n",
    "The code below loads information from a comma separated value (csv) file. You need to parse this string into a more useable format. The format of the string is:\n",
    "\n",
    "- Rows are separated by newline characters: \\n\n",
    "- Columns are separated by commas: ,\n",
    "- All cells in the csv are double quoted. Ex: \"PokedexNumber\" is the first cell of the first row.\n",
    "\n",
    "\n",
    "Using for-loops, create a list of lists where each list within the overall list is a row of the csv/matrix, and each element in that list is a cell in that row. Additional criteria:\n",
    "\n",
    "1. Quotes are removed from each cell item.\n",
    "2. Numeric column values are converted to floats.\n",
    "3. There are some cells that are empty and have no information. For these cells put a -1 value in place.\n",
    "\n",
    "Your end result is effectively a matrix. Each list in the outer list is a row, and the *j*th elements of list together form the *j*th column, which represents a data attribute. The first three lists in your pokedex list should look like this:\n",
    "\n",
    "    ['PokedexNumber', 'Name', 'Type', 'Total', 'HP', 'Attack', 'Defense', 'SpecialAttack', 'SpecialDefense', 'Speed']\n",
    "    [1.0, 'Bulbasaur', 'GrassPoison', 318.0, 45.0, 49.0, 49.0, 65.0, 65.0, 45.0]\n",
    "    [2.0, 'Ivysaur', 'GrassPoison', 405.0, 60.0, 62.0, 63.0, 80.0, 80.0, 60.0]"
   ]
  },
  {
   "cell_type": "code",
   "execution_count": 28,
   "metadata": {},
   "outputs": [],
   "source": [
    "# Code to read in pokedex info\n",
    "raw_pd = ''\n",
    "pokedex_file = 'pokedex_basic.csv'\n",
    "with open(pokedex_file, 'r') as f:\n",
    "    raw_pd = f.read()\n",
    "    \n",
    "# the pokedex string is assigned to the raw_pd variable"
   ]
  },
  {
   "cell_type": "code",
   "execution_count": 29,
   "metadata": {},
   "outputs": [],
   "source": [
    "temp_pd = raw_pd.splitlines()"
   ]
  },
  {
   "cell_type": "code",
   "execution_count": 30,
   "metadata": {},
   "outputs": [],
   "source": [
    "pd_clean=[]\n",
    "for line in temp_pd: # obtain each string line\n",
    "    line=list(line.split(',')) #convert each string line into a list\n",
    "    temp_line=[]\n",
    "    for line_item in line: # loop through each item in list\n",
    "        line_item=line_item[1:len(line_item)-1] # remove quotes (first and last char)\n",
    "        try:\n",
    "            temp_line.append(float(line_item)) #convert item into float where possible\n",
    "        except:\n",
    "            temp_line.append(line_item)\n",
    "\n",
    "    pd_clean.append(temp_line) #update each line"
   ]
  },
  {
   "cell_type": "markdown",
   "metadata": {},
   "source": [
    "<img src=\"http://imgur.com/xDpSobf.png\" style=\"float: left; margin: 25px 15px 0px 0px; height: 25px\">\n",
    "\n",
    "### 8.2 Parse the raw pokedex with list comprehensions\n",
    "\n",
    "---\n",
    "\n",
    "Perform the same parsing as above, but **using only a single list comprehension** instead of for loops. You may have nested list comprehensions within the main list comprehension! The output should be exactly the same."
   ]
  },
  {
   "cell_type": "code",
   "execution_count": 27,
   "metadata": {},
   "outputs": [],
   "source": [
    "#put on hold first. figure out later\n"
   ]
  },
  {
   "cell_type": "markdown",
   "metadata": {},
   "source": [
    "<img src=\"http://imgur.com/l5NasQj.png\" style=\"float: left; margin: 25px 15px 0px 0px; height: 25px\">\n",
    "\n",
    "## 9. Write a function to generate the full pokedex\n",
    "\n",
    "---\n",
    "\n",
    "Write a function that recreates the pokedex you made before, but with the data read in from the full pokemon file. The `PokedexNumber` should be used as the `pokemon_id` key values for the dictionary of pokemon.\n",
    "\n",
    "Your function should:\n",
    "\n",
    "1. Take the parsed pokedex information you created above as an argument.\n",
    "2. Return a dictionary in the same format as your original pokedex you created before containing the information from the parsed full pokedex file.\n",
    "\n",
    "To test the function, print out the pokemon with id = 100."
   ]
  },
  {
   "cell_type": "code",
   "execution_count": 166,
   "metadata": {
    "scrolled": true
   },
   "outputs": [
    {
     "name": "stdout",
     "output_type": "stream",
     "text": [
      "{'name': 'Voltorb', 'type': 'Electric', 'hp': 330.0, 'attack': 40.0, 'defense': 30.0, 'special_attack': 50.0, 'special_defense': 55.0, 'speed': 55.0}\n"
     ]
    }
   ],
   "source": [
    "def create_new_pokedex(input_file):\n",
    "    new_pokedex={}\n",
    "    for count in range(1,len(input_file)):\n",
    "        new_pokedex.update({\n",
    "            input_file[count][0]:{\n",
    "                \n",
    "                'name':input_file[count][1],\n",
    "                'type':input_file[count][2],\n",
    "                'hp':input_file[count][3],\n",
    "                'attack':input_file[count][4],\n",
    "                'defense':input_file[count][5],\n",
    "                'special_attack':input_file[count][6],\n",
    "                'special_defense':input_file[count][7],\n",
    "                'speed':input_file[count][8]\n",
    "\n",
    "            }        \n",
    "        })\n",
    "    return new_pokedex\n",
    "\n",
    "pokedex_v2=create_new_pokedex(pd_clean)\n",
    "print(pokedex_v2[100])"
   ]
  },
  {
   "cell_type": "markdown",
   "metadata": {},
   "source": [
    "<img src=\"http://i.imgur.com/GCAf1UX.png\" style=\"float: left; margin: 25px 15px 0px 0px; height: 25px\">\n",
    "\n",
    "## 10. Write a function to generate a \"filtered\" pokedex\n",
    "---\n",
    "Your function should:\n",
    "1. Take the parsed pokedex information you created above as an argument.\n",
    "1. Take a dictionary as a parameter with keys matching the features of the Pokedex, filtering by exact match for string type values, and/or filter continuous variables specified value that is greater than or equal to the dictionary key parameter.\n",
    "1. Return multiple elements from the Pokedex\n",
    "\n",
    "Example:\n",
    "\n",
    "```python\n",
    "\n",
    "# Only filter based on parameters passed\n",
    "filter_options = {\n",
    "    'Attack':   25,\n",
    "    'Defense':  30,\n",
    "    'Type':     'Electric'\n",
    "}\n",
    "\n",
    "# Return records with attack >= 24, defense >= 30, and type == \"Electric\"\n",
    "# Also anticipate that other paramters can also be passed such as \"SpecialAttack\", \"Speed\", etc.\n",
    "filtered_pokedex(pokedex_data, filter=filter_options)\n",
    "\n",
    "# Example output:\n",
    "# [{'Attack': 30.0,\n",
    "#  'Defense': 50.0,\n",
    "#  'HP': 40.0,\n",
    "#  'Name': 'Voltorb',\n",
    "#  'SpecialAttack': 55.0,\n",
    "#  'SpecialDefense': 55.0,\n",
    "#  'Speed': 100.0,\n",
    "#  'Total': 330.0,\n",
    "#  'Type': 'Electric'},\n",
    "#  {'Attack': 30.0,\n",
    "#  'Defense': 33.0,\n",
    "#  'HP': 32.0,\n",
    "#  'Name': 'Pikachu',\n",
    "#  'SpecialAttack': 55.0,\n",
    "#  'SpecialDefense': 55.0,\n",
    "#  'Speed': 100.0,\n",
    "#  'Total': 330.0,\n",
    "#  'Type': 'Electric'},\n",
    "#  ... etc\n",
    "#  ]\n",
    "\n",
    "```\n",
    "\n"
   ]
  },
  {
   "cell_type": "code",
   "execution_count": 179,
   "metadata": {},
   "outputs": [
    {
     "name": "stdout",
     "output_type": "stream",
     "text": [
      "{0: None,\n",
      " 1: {'attack': 106.0,\n",
      "     'defense': 150.0,\n",
      "     'hp': 780.0,\n",
      "     'name': 'MewtwoMega Mewtwo Y',\n",
      "     'special_attack': 70.0,\n",
      "     'special_defense': 194.0,\n",
      "     'speed': 120.0,\n",
      "     'type': 'Psychic'},\n",
      " 2: {'attack': 106.0,\n",
      "     'defense': 130.0,\n",
      "     'hp': 680.0,\n",
      "     'name': 'Ho-oh',\n",
      "     'special_attack': 90.0,\n",
      "     'special_defense': 110.0,\n",
      "     'speed': 154.0,\n",
      "     'type': 'FireFlying'},\n",
      " 3: {'attack': 105.0,\n",
      "     'defense': 180.0,\n",
      "     'hp': 780.0,\n",
      "     'name': 'RayquazaMega Rayquaza',\n",
      "     'special_attack': 100.0,\n",
      "     'special_defense': 180.0,\n",
      "     'speed': 100.0,\n",
      "     'type': 'DragonFlying'},\n",
      " 4: {'attack': 108.0,\n",
      "     'defense': 170.0,\n",
      "     'hp': 700.0,\n",
      "     'name': 'GarchompMega Garchomp',\n",
      "     'special_attack': 115.0,\n",
      "     'special_defense': 120.0,\n",
      "     'speed': 95.0,\n",
      "     'type': 'DragonGround'},\n",
      " 5: {'attack': 150.0,\n",
      "     'defense': 120.0,\n",
      "     'hp': 680.0,\n",
      "     'name': 'GiratinaOrigin Forme',\n",
      "     'special_attack': 100.0,\n",
      "     'special_defense': 120.0,\n",
      "     'speed': 100.0,\n",
      "     'type': 'GhostDragon'},\n",
      " 6: {'attack': 120.0,\n",
      "     'defense': 120.0,\n",
      "     'hp': 720.0,\n",
      "     'name': 'Arceus',\n",
      "     'special_attack': 120.0,\n",
      "     'special_defense': 120.0,\n",
      "     'speed': 120.0,\n",
      "     'type': 'Normal'},\n",
      " 7: {'attack': 125.0,\n",
      "     'defense': 120.0,\n",
      "     'hp': 700.0,\n",
      "     'name': 'KyuremWhite Kyurem',\n",
      "     'special_attack': 90.0,\n",
      "     'special_defense': 170.0,\n",
      "     'speed': 100.0,\n",
      "     'type': 'DragonIce'},\n",
      " 8: {'attack': 126.0,\n",
      "     'defense': 131.0,\n",
      "     'hp': 680.0,\n",
      "     'name': 'Xerneas',\n",
      "     'special_attack': 95.0,\n",
      "     'special_defense': 131.0,\n",
      "     'speed': 98.0,\n",
      "     'type': 'Fairy'},\n",
      " 9: {'attack': 126.0,\n",
      "     'defense': 131.0,\n",
      "     'hp': 680.0,\n",
      "     'name': 'Yveltal',\n",
      "     'special_attack': 95.0,\n",
      "     'special_defense': 131.0,\n",
      "     'speed': 98.0,\n",
      "     'type': 'DarkFlying'}}\n"
     ]
    }
   ],
   "source": [
    "\n",
    "def filter_pokedex(pokedex_data, filter_criteria):\n",
    "    original_list=pokedex_data\n",
    "    filtered_list={}\n",
    "    \n",
    "    for each_criteria in filter_criteria:\n",
    "        results_found=0\n",
    "        filtered_list={0:None}\n",
    "        for count in range(1,len(original_list)):\n",
    "            \n",
    "            #name or type\n",
    "            if (each_criteria.lower()=='name' or each_criteria.lower()=='type'):\n",
    "                if (original_list[count][each_criteria.lower()] == filter_criteria[each_criteria]):\n",
    "                    results_found+=1\n",
    "                    filtered_list.update({results_found:original_list[count]})\n",
    "            #hp, attack, defense, special_attack, special_defense, speed\n",
    "            elif (each_criteria.lower()=='hp' or each_criteria.lower()=='attack' \n",
    "                  or each_criteria.lower()=='defense' or each_criteria.lower()=='special_attack'\n",
    "                  or each_criteria.lower()=='special_defense'or each_criteria.lower()=='speed'):\n",
    "                if (original_list[count][each_criteria.lower()] > filter_criteria[each_criteria]):\n",
    "                    results_found+=1\n",
    "                    filtered_list.update({results_found:original_list[count]})\n",
    "            else:\n",
    "                print('invalid filter criteria')\n",
    "                return None          \n",
    "        original_list=filtered_list\n",
    "        \n",
    "    return filtered_list\n",
    "\n",
    "\n",
    "\n",
    "search_criteria={\n",
    "    'Attack':100,\n",
    "    'Defense':100,\n",
    "    #'Type':'Normal',\n",
    "    'special_defense':100,\n",
    "    'special_attack':10,\n",
    "    #'Name':'Arceus'\n",
    "}\n",
    "    \n",
    "pprint(filter_pokedex(pokedex_v2,search_criteria))\n"
   ]
  },
  {
   "cell_type": "markdown",
   "metadata": {
    "collapsed": true
   },
   "source": [
    "\n",
    "## 9. Descriptive statistics on the prototype pokedex\n",
    "\n",
    "<img src=\"http://imgur.com/l5NasQj.png\" style=\"float: left; margin: 25px 15px 0px 0px; height: 25px\">\n",
    "### 9.1\n",
    "\n",
    "What is the population mean and standard deviation of the \"Total\" attribute for all characters in the Pokedex?\n",
    "\n"
   ]
  },
  {
   "cell_type": "code",
   "execution_count": null,
   "metadata": {},
   "outputs": [],
   "source": []
  },
  {
   "cell_type": "markdown",
   "metadata": {},
   "source": [
    "<img src=\"http://imgur.com/l5NasQj.png\" style=\"float: left; margin: 25px 15px 0px 0px; height: 25px\">\n",
    "### 9.2\n",
    "\n",
    "The game is no fun if the characters are wildly unbalanced! Are any characters \"overpowered\", which we'll define as having a \"Total\" more than three standard deviations from the population mean?"
   ]
  },
  {
   "cell_type": "code",
   "execution_count": null,
   "metadata": {},
   "outputs": [],
   "source": []
  },
  {
   "cell_type": "markdown",
   "metadata": {},
   "source": [
    "<img src=\"http://imgur.com/xDpSobf.png\" style=\"float: left; margin: 25px 15px 0px 0px; height: 25px\">\n",
    "\n",
    "## 10. Calibrate the frequency of Pokemon\n",
    "\n",
    "The design team wants you to make the powerful Pokemon rare, and the weaklings more common. How would you set the probability $p_i$ of finding Pokemon *i* each time a player visits a gym?\n",
    "\n",
    "Write a function that takes in a Pokedex number and returns a value $p_i$ for that character.\n",
    "\n",
    "Hint: there are many ways you could do this. What do _you_ think makes sense? Start with simplifying assumptions: for example, you could assume that the probabilities of encountering any two Pokemon on one visit to a gym are independent of each other."
   ]
  },
  {
   "cell_type": "code",
   "execution_count": null,
   "metadata": {},
   "outputs": [],
   "source": []
  }
 ],
 "metadata": {
  "anaconda-cloud": {},
  "kernelspec": {
   "display_name": "Python 3",
   "language": "python",
   "name": "python3"
  },
  "language_info": {
   "codemirror_mode": {
    "name": "ipython",
    "version": 3
   },
   "file_extension": ".py",
   "mimetype": "text/x-python",
   "name": "python",
   "nbconvert_exporter": "python",
   "pygments_lexer": "ipython3",
   "version": "3.7.1"
  }
 },
 "nbformat": 4,
 "nbformat_minor": 1
}
